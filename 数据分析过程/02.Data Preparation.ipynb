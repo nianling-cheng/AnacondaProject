{
 "cells": [
  {
   "cell_type": "code",
   "execution_count": 13,
   "metadata": {
    "collapsed": true
   },
   "outputs": [],
   "source": [
    "import matplotlib.pyplot as plt\n",
    "import numpy as np\n",
    "import scipy as sp\n",
    "import scipy.stats as stats\n",
    "import pandas as pd\n",
    "plt.rcParams['font.sans-serif']=['SimHei'] #用来正常显示中文标签\n",
    "plt.rcParams['axes.unicode_minus']=False #用来正常显示负号\n",
    "#有中文出现的情况，需要u'内容'"
   ]
  },
  {
   "cell_type": "markdown",
   "metadata": {},
   "source": [
    "# 1. Data Preparation"
   ]
  },
  {
   "cell_type": "markdown",
   "metadata": {},
   "source": [
    "## 1.3 数据变换"
   ]
  },
  {
   "cell_type": "markdown",
   "metadata": {},
   "source": [
    "### 1.3.1 简单函数变换"
   ]
  },
  {
   "cell_type": "markdown",
   "metadata": {},
   "source": [
    "### 1.3.2 规范化"
   ]
  },
  {
   "cell_type": "markdown",
   "metadata": {},
   "source": [
    "#### 1.3.2.1 最小/最大规范化: $\\large{x^*=\\frac{x-min}{max-min}}$ \n",
    "映射到 [0,1] 之间，若数据集中且某个数值太大，则规范化后各值都接近0，且相差不大"
   ]
  },
  {
   "cell_type": "markdown",
   "metadata": {},
   "source": [
    "#### 1.3.2.2 零/均值(标准差)规范化: $\\large{x^*=\\frac{x-\\overline{x}}{\\sigma}}$\n",
    "目前用的最多的数据标准化方法"
   ]
  },
  {
   "cell_type": "markdown",
   "metadata": {},
   "source": [
    "#### 1.3.2.3 小数定标规范化: $\\large{x^*=\\frac{x}{10^k}}$\n",
    "通过移动属性值的小数位数，映射到 [-1,1] 之间，移动的小数位数取决于属性值绝对值的最大值"
   ]
  },
  {
   "cell_type": "code",
   "execution_count": 2,
   "metadata": {},
   "outputs": [
    {
     "data": {
      "text/plain": [
       "array([[0.53403228, 0.33067604],\n",
       "       [0.31194431, 0.37662431],\n",
       "       [0.37549638, 0.34570596],\n",
       "       [0.77219009, 0.34578318],\n",
       "       [0.3765018 , 0.51080049],\n",
       "       [0.90979114, 0.22672979],\n",
       "       [0.29188222, 0.29126034],\n",
       "       [0.30116754, 0.29845311],\n",
       "       [0.60972703, 0.83901053],\n",
       "       [0.58753871, 0.090489  ],\n",
       "       [0.12941157, 0.37046117],\n",
       "       [0.04400166, 0.58025217],\n",
       "       [0.23562919, 0.77043068],\n",
       "       [0.52669273, 0.35782784],\n",
       "       [0.88189166, 0.40296656],\n",
       "       [0.29569039, 0.        ],\n",
       "       [0.72710793, 0.33931316],\n",
       "       [0.26536528, 0.72899463],\n",
       "       [0.73872924, 0.28475451],\n",
       "       [0.45110736, 0.77575672],\n",
       "       [0.88097148, 0.15862728],\n",
       "       [0.25281322, 0.26414375],\n",
       "       [0.32603567, 0.8327072 ],\n",
       "       [0.19968314, 0.99275772],\n",
       "       [0.7400227 , 0.20147531],\n",
       "       [0.26344643, 0.39951656],\n",
       "       [1.        , 0.53411501],\n",
       "       [0.154511  , 0.5225369 ],\n",
       "       [0.89105931, 0.25496913],\n",
       "       [0.61009453, 0.4731644 ]])"
      ]
     },
     "execution_count": 2,
     "metadata": {},
     "output_type": "execute_result"
    }
   ],
   "source": [
    "# load raw_data\n",
    "feture_matrix = np.random.randn(60).reshape(30, 2)\n",
    "\n",
    "#max-min normalization\n",
    "X = (feture_matrix - feture_matrix.min()) / (feture_matrix.max() - feture_matrix.min())\n",
    "X"
   ]
  },
  {
   "cell_type": "code",
   "execution_count": 3,
   "metadata": {},
   "outputs": [
    {
     "data": {
      "text/plain": [
       "array([[ 0.29303504, -0.50915305],\n",
       "       [-0.58304488, -0.32789893],\n",
       "       [-0.3323483 , -0.44986385],\n",
       "       [ 1.23250638, -0.44955926],\n",
       "       [-0.32838217,  0.20139163],\n",
       "       [ 1.77530717, -0.91919427],\n",
       "       [-0.66218469, -0.66463783],\n",
       "       [-0.62555649, -0.63626421],\n",
       "       [ 0.59163139,  1.49609584],\n",
       "       [ 0.50410416, -1.45662915],\n",
       "       [-1.30308964, -0.35221092],\n",
       "       [-1.64000975,  0.47536065],\n",
       "       [-0.88408843,  1.22556597],\n",
       "       [ 0.26408243, -0.40204615],\n",
       "       [ 1.66525089, -0.22398553],\n",
       "       [-0.64716243, -1.813585  ],\n",
       "       [ 1.05466884, -0.4750818 ],\n",
       "       [-0.76678718,  1.06211139],\n",
       "       [ 1.10051192, -0.69030166],\n",
       "       [-0.03408244,  1.24657582],\n",
       "       [ 1.66162099, -1.18784115],\n",
       "       [-0.81630183, -0.77160582],\n",
       "       [-0.52745811,  1.47123082],\n",
       "       [-1.02588634,  2.10258898],\n",
       "       [ 1.1056143 , -1.01881672],\n",
       "       [-0.77435654, -0.23759487],\n",
       "       [ 2.13115792,  0.29336141],\n",
       "       [-1.20407884,  0.24768874],\n",
       "       [ 1.7014149 , -0.80779733],\n",
       "       [ 0.59308107,  0.0529269 ]])"
      ]
     },
     "execution_count": 3,
     "metadata": {},
     "output_type": "execute_result"
    }
   ],
   "source": [
    "# z-score\n",
    "X = (feture_matrix - feture_matrix.mean()) / feture_matrix.std()\n",
    "X"
   ]
  },
  {
   "cell_type": "code",
   "execution_count": 4,
   "metadata": {},
   "outputs": [
    {
     "data": {
      "text/plain": [
       "array([[ 0.01714101, -0.05965528],\n",
       "       [-0.06672921, -0.04230318],\n",
       "       [-0.04272914, -0.05397932],\n",
       "       [ 0.10707992, -0.05395016],\n",
       "       [-0.04234945,  0.00836767],\n",
       "       [ 0.15904415, -0.09890997],\n",
       "       [-0.07430554, -0.07454039],\n",
       "       [-0.07079899, -0.07182408],\n",
       "       [ 0.0457267 ,  0.13231427],\n",
       "       [ 0.03734741, -0.15036051],\n",
       "       [-0.13566163, -0.04463066],\n",
       "       [-0.16791618,  0.03459569],\n",
       "       [-0.09554917,  0.10641549],\n",
       "       [ 0.01436928, -0.04940156],\n",
       "       [ 0.14850808, -0.03235519],\n",
       "       [-0.07286741, -0.18453315],\n",
       "       [ 0.0900549 , -0.05639352],\n",
       "       [-0.0843195 ,  0.0907674 ],\n",
       "       [ 0.09444362, -0.07699728],\n",
       "       [-0.0141751 ,  0.10842684],\n",
       "       [ 0.14816057, -0.12462849],\n",
       "       [-0.08905972, -0.08478081],\n",
       "       [-0.06140769,  0.12993385],\n",
       "       [-0.10912398,  0.19037599],\n",
       "       [ 0.09493209, -0.10844718],\n",
       "       [-0.08504415, -0.03365806],\n",
       "       [ 0.193111  ,  0.01717226],\n",
       "       [-0.12618298,  0.01279985],\n",
       "       [ 0.15197019, -0.08824555],\n",
       "       [ 0.04586548, -0.00584539]])"
      ]
     },
     "execution_count": 4,
     "metadata": {},
     "output_type": "execute_result"
    }
   ],
   "source": [
    "# normalization by decimal scaling\n",
    "X = feture_matrix / 10**np.ceil(np.log10(np.abs(feture_matrix).max()))\n",
    "X"
   ]
  },
  {
   "cell_type": "code",
   "execution_count": 5,
   "metadata": {},
   "outputs": [
    {
     "name": "stdout",
     "output_type": "stream",
     "text": [
      "[[0.71287809 0.63728507]\n",
      " [0.55966227 0.64855567]\n",
      " [0.42374164 0.20859825]\n",
      " [0.68057256 0.49362287]\n",
      " [0.38521046 0.31686083]\n",
      " [0.56258326 0.59862096]\n",
      " [0.64782763 0.39153298]\n",
      " [0.38047202 0.01597628]\n",
      " [0.63214791 0.34995942]\n",
      " [0.46696345 0.6721085 ]\n",
      " [0.53367597 0.41430268]\n",
      " [0.29359129 0.62034198]\n",
      " [0.47551761 0.64690815]\n",
      " [0.4482465  0.34507074]\n",
      " [0.37473525 0.88018492]\n",
      " [1.         0.39177921]\n",
      " [0.58606514 0.50244808]\n",
      " [0.62770521 0.4708722 ]\n",
      " [0.36928597 0.58822981]\n",
      " [0.3943292  0.30856491]\n",
      " [0.53028325 0.43361422]\n",
      " [0.47381394 0.56268143]\n",
      " [0.57287497 0.49382678]\n",
      " [0.53919342 0.36687635]\n",
      " [0.55685859 0.00598827]\n",
      " [0.         0.35979021]\n",
      " [0.97476974 0.43788173]\n",
      " [0.41783481 0.36805793]\n",
      " [0.95731062 0.62261676]\n",
      " [0.32420618 0.2234428 ]]\n",
      "[[ 1.1273399   0.74841262]\n",
      " [ 0.35931064  0.80490908]\n",
      " [-0.32202254 -1.4004779 ]\n",
      " [ 0.96540108  0.02827305]\n",
      " [-0.51516887 -0.85778704]\n",
      " [ 0.37395275  0.55459998]\n",
      " [ 0.80125965 -0.48347581]\n",
      " [-0.5389214  -2.36603954]\n",
      " [ 0.72266143 -0.69187278]\n",
      " [-0.10536338  0.92297301]\n",
      " [ 0.22904839 -0.36933749]\n",
      " [-0.9744309   0.66348151]\n",
      " [-0.0624837   0.79665055]\n",
      " [-0.19918637 -0.7163784 ]\n",
      " [-0.56767825  1.96600357]\n",
      " [ 2.56660403 -0.48224151]\n",
      " [ 0.49166105  0.07251142]\n",
      " [ 0.70039142 -0.08576985]\n",
      " [-0.59499401  0.50251197]\n",
      " [-0.46945912 -0.89937223]\n",
      " [ 0.21204159 -0.27253401]\n",
      " [-0.07102371  0.37444485]\n",
      " [ 0.4255423   0.02929521]\n",
      " [ 0.25670584 -0.6070728 ]\n",
      " [ 0.34525656 -2.41610669]\n",
      " [-2.44612427 -0.64259372]\n",
      " [ 2.44013158 -0.25114214]\n",
      " [-0.35163187 -0.60114986]\n",
      " [ 2.35261376  0.67488437]\n",
      " [-0.82096676 -1.32606624]]\n",
      "[[ 0.06521297  0.03223543]\n",
      " [-0.0016276   0.03715224]\n",
      " [-0.06092313 -0.15477967]\n",
      " [ 0.05111964 -0.03043737]\n",
      " [-0.0777324  -0.10755001]\n",
      " [-0.00035332  0.01536817]\n",
      " [ 0.03683463 -0.07497419]\n",
      " [-0.07979955 -0.23881123]\n",
      " [ 0.02999433 -0.09311071]\n",
      " [-0.04206757  0.04742719]\n",
      " [-0.01296416 -0.06504089]\n",
      " [-0.11770137  0.02484398]\n",
      " [-0.03833581  0.03643351]\n",
      " [-0.05023286 -0.0952434 ]\n",
      " [-0.08230222  0.13820076]\n",
      " [ 0.19047022 -0.07486678]\n",
      " [ 0.00989068 -0.02658736]\n",
      " [ 0.0280562  -0.04036237]\n",
      " [-0.08467948  0.01083502]\n",
      " [-0.07375434 -0.11116911]\n",
      " [-0.01444424 -0.05661621]\n",
      " [-0.03907903 -0.0003105 ]\n",
      " [ 0.00413645 -0.03034841]\n",
      " [-0.01055716 -0.08573068]\n",
      " [-0.00285071 -0.24316851]\n",
      " [-0.24578089 -0.08882202]\n",
      " [ 0.17946349 -0.0547545 ]\n",
      " [-0.06349999 -0.08521521]\n",
      " [ 0.17184693  0.02583636]\n",
      " [-0.10434559 -0.14830373]]\n"
     ]
    }
   ],
   "source": [
    "#-*- coding: utf-8 -*-\n",
    "#数据规范化\n",
    "import pandas as pd\n",
    "import numpy as np\n",
    "\n",
    "#datafile = '../data/normalization_data.xls' #参数初始化\n",
    "#data = pd.read_excel(datafile, header=None) #读取数据\n",
    "data = np.random.randn(60).reshape(30, 2)\n",
    "\n",
    "data1 = (data - data.min()) / (data.max() - data.min()) #最小-最大规范化\n",
    "print(data1)\n",
    "data2 = (data - data.mean()) / data.std() #零-均值规范化\n",
    "print(data2)\n",
    "data3 = data / 10**np.ceil(np.log10(np.abs(data).max())) #小数定标规范化\n",
    "print(data3)"
   ]
  },
  {
   "cell_type": "markdown",
   "metadata": {},
   "source": [
    "### 1.3.3 连续属性离散化"
   ]
  },
  {
   "cell_type": "markdown",
   "metadata": {},
   "source": [
    "#### 1.3.3.1 等宽法\n",
    "等宽法：类似于制作频率分布表，将属性的值域划分为相等宽度的区间，区间的个数由数据本身特点决定"
   ]
  },
  {
   "cell_type": "markdown",
   "metadata": {},
   "source": [
    "#### 1.3.3.2 等频法\n",
    "等频法：将相同数量的记录放到每个区间"
   ]
  },
  {
   "cell_type": "markdown",
   "metadata": {},
   "source": [
    "#### 1.3.3.3 聚类\n",
    "聚类：一维聚类的两个步骤，首先用聚类算法如（K-means算法）进行聚类，然后处理聚类得到的簇。"
   ]
  },
  {
   "cell_type": "code",
   "execution_count": 6,
   "metadata": {},
   "outputs": [
    {
     "name": "stdout",
     "output_type": "stream",
     "text": [
      "[ 0.88288613  0.56778539 -0.33118276 -1.49554131  0.83592292 -0.58366008\n",
      "  0.34344833 -0.29491103  2.37952332  1.43642066]\n"
     ]
    },
    {
     "data": {
      "text/plain": [
       "[2, 2, 1, 0, 2, 0, 1, 1, 3, 3]\n",
       "Categories (4, int64): [0 < 1 < 2 < 3]"
      ]
     },
     "execution_count": 6,
     "metadata": {},
     "output_type": "execute_result"
    }
   ],
   "source": [
    "import pandas as pd\n",
    "\n",
    "#datafile = '../big-data/data-anaysis/example/chapter4/chapter4/demo/data/discretization_data.xls'\n",
    "#data = pd.read_excel(datafile)\n",
    "data = np.random.randn(10)#.reshape(6, 10)\n",
    "#取该列\n",
    "#data = data[u'肝气郁结证型系数'].copy()\n",
    "data = data.copy()\n",
    "print(data)\n",
    "k = 4\n",
    "\n",
    "#等宽离散化\n",
    "d1 = pd.cut(data, k, labels=range(k))\n",
    "d1"
   ]
  },
  {
   "cell_type": "code",
   "execution_count": 7,
   "metadata": {},
   "outputs": [
    {
     "data": {
      "text/plain": [
       "[3.0, 2.0, 0.0, NaN, 2.0, 0.0, 1.0, 1.0, NaN, 3.0]\n",
       "Categories (4, int64): [0 < 1 < 2 < 3]"
      ]
     },
     "execution_count": 7,
     "metadata": {},
     "output_type": "execute_result"
    }
   ],
   "source": [
    "#等频离散化\n",
    "w = [1.0 * i / k for i in range(k+1)]\n",
    "#自动计算分数位\n",
    "w = pd.DataFrame(data).describe(percentiles=w)[4:4+k+1]\n",
    "w = w * (1-1e-10)\n",
    "\n",
    "d2 = pd.cut(data, w[0], labels=range(k))\n",
    "d2"
   ]
  },
  {
   "cell_type": "markdown",
   "metadata": {},
   "source": [
    "### 1.3.4 属性构造"
   ]
  },
  {
   "cell_type": "markdown",
   "metadata": {},
   "source": [
    "### 1.3.5 小波变换"
   ]
  },
  {
   "cell_type": "markdown",
   "metadata": {},
   "source": [
    "## 1.4 数据规约"
   ]
  },
  {
   "cell_type": "markdown",
   "metadata": {},
   "source": [
    "### 1.4.1 属性规约"
   ]
  },
  {
   "cell_type": "markdown",
   "metadata": {},
   "source": [
    "#### 1.4.1.1 逐步向前选择"
   ]
  },
  {
   "cell_type": "markdown",
   "metadata": {},
   "source": [
    "#### 1.4.1.2 逐步向后删除"
   ]
  },
  {
   "cell_type": "markdown",
   "metadata": {},
   "source": [
    "#### 1.4.1.3 决策树归纳"
   ]
  },
  {
   "cell_type": "markdown",
   "metadata": {},
   "source": [
    "#### 1.4.1.4 主成分分析(PCA)"
   ]
  },
  {
   "cell_type": "code",
   "execution_count": 8,
   "metadata": {},
   "outputs": [
    {
     "name": "stdout",
     "output_type": "stream",
     "text": [
      "[0.99244289 0.00755711]\n"
     ]
    }
   ],
   "source": [
    "import numpy as np\n",
    "from sklearn.decomposition import PCA\n",
    "\n",
    "X = np.array([[-1, -1], [-2, -1], [-3, -2], [1, 1], [2, 1], [3, 2]])\n",
    "pca = PCA(n_components=2)\n",
    "pca.fit(X)\n",
    "print(pca.explained_variance_ratio_)"
   ]
  },
  {
   "cell_type": "code",
   "execution_count": 9,
   "metadata": {},
   "outputs": [
    {
     "name": "stdout",
     "output_type": "stream",
     "text": [
      "[0.99244289]\n"
     ]
    }
   ],
   "source": [
    "X = np.array([[-1, -1], [-2, -1], [-3, -2], [1, 1], [2, 1], [3, 2]])\n",
    "pca = PCA(n_components='mle')\n",
    "pca.fit(X)\n",
    "# PCA(copy=True, n_components=2, whiten=False)\n",
    "print(pca.explained_variance_ratio_)"
   ]
  },
  {
   "cell_type": "markdown",
   "metadata": {},
   "source": [
    "### 1.4.2 数值规约"
   ]
  },
  {
   "cell_type": "markdown",
   "metadata": {},
   "source": [
    "#### 1.4.2.1 直方图"
   ]
  },
  {
   "cell_type": "markdown",
   "metadata": {},
   "source": [
    "#### 1.4.2.2 聚类"
   ]
  },
  {
   "cell_type": "markdown",
   "metadata": {},
   "source": [
    "#### 1.4.2.3 抽样\n",
    "s个样本无放回简单随机抽样\n",
    "\n",
    "s个样本有放回简单随机抽样\n",
    "\n",
    "聚类抽样\n",
    "\n",
    "分层抽样"
   ]
  },
  {
   "cell_type": "markdown",
   "metadata": {},
   "source": [
    "#### 1.4.2.4 参数回归\n",
    "简单线性模型\n",
    "多元线性模型\n",
    "对数线性模型(Logistic Regression)"
   ]
  },
  {
   "cell_type": "code",
   "execution_count": 14,
   "metadata": {},
   "outputs": [
    {
     "name": "stdout",
     "output_type": "stream",
     "text": [
      "x0: [[1 1]\n",
      " [2 2]]\n",
      "f(x0): [1.87381094 2.33111636]\n",
      "function:y=ax+b ( a= [0.03411438 0.42319104] b= 1.4165055212448792 )\n"
     ]
    },
    {
     "data": {
      "image/png": "[encoded data removed]",
      "text/plain": [
       "<matplotlib.figure.Figure at 0x171676a0>"
      ]
     },
     "metadata": {},
     "output_type": "display_data"
    },
    {
     "name": "stdout",
     "output_type": "stream",
     "text": [
      "f(x0): [[15.49333333]]\n",
      "function:ax+b ( a= 1.0 b= 1.4933333333333332 )\n"
     ]
    },
    {
     "data": {
      "image/png": "[encoded data removed]",
      "text/plain": [
       "<matplotlib.figure.Figure at 0x17344cc0>"
      ]
     },
     "metadata": {},
     "output_type": "display_data"
    }
   ],
   "source": [
    "#-*-coding:utf-8-*-\n",
    "'''\n",
    "created by zwg in 2016-10-5\n",
    "'''\n",
    "'''\n",
    "最小二乘多项式拟合\n",
    "'''\n",
    "import numpy\n",
    "from sklearn import linear_model\n",
    "from matplotlib import pyplot as pl\n",
    "\n",
    "#单自变量单因变量线性回归\n",
    "class two_fit:\n",
    "\tdef loaddata(self, x, y):\n",
    "\t\t'''\n",
    "\t\t导入数据并进行拟合\n",
    "\t\t'''\n",
    "\t\tn = len(x)\n",
    "\t\tx = numpy.array(x)\n",
    "\t\ty = numpy.array(y)\n",
    "\t\tx = x.reshape((n, 1))\n",
    "\t\ty = y.reshape((n, 1))\n",
    "\t\tself.x = x; \n",
    "\t\tself.y = y;\n",
    "\t\tself.reg = linear_model.LinearRegression()\n",
    "\t\tself.reg.fit(x, y)\n",
    "\t\tself.a = self.reg.coef_\n",
    "\t\tself.b = self.reg.intercept_\n",
    "        \n",
    "\tdef predict(self, x0):\n",
    "\t\t'''\n",
    "\t\t预测数据\n",
    "\t\t'''\n",
    "\t\ty0 = self.reg.predict(x0)\n",
    "\t\treturn y0\n",
    "    \n",
    "\tdef getcoef(self):\n",
    "\t\t'''\n",
    "\t\t获取拟合系数\n",
    "\t\t'''\n",
    "\t\treturn self.a[0, 0], self.b[0]\n",
    "    \n",
    "\tdef show(self):\n",
    "\t\tfigure1 = pl.figure()\n",
    "\t\tpl.plot(self.x, self.y, 'ro', label='origin data')\n",
    "\t\tpl.plot(self.x, self.predict(self.x), label='fitting data')\n",
    "\t\tplt.title('单自变量单因变量线性回归')\n",
    "\t\tpl.legend()\n",
    "\t\tpl.show()\n",
    "        \n",
    "#多自变量单因变量线性回归\n",
    "class n_fit:\n",
    "\tdef loaddata(self, x, y):\n",
    "\t\tn = len(y)\n",
    "\t\tx = numpy.array(x)\n",
    "\t\ty = numpy.array(y)\n",
    "\t\ty.reshape((n, 1))\n",
    "\t\tself.x = x; self.y = y;\n",
    "\t\tself.reg = linear_model.LinearRegression()\n",
    "\t\tself.reg.fit(x, y)\n",
    "\t\tself.a = self.reg.coef_\n",
    "\t\tself.b = self.reg.intercept_\n",
    "        \n",
    "\tdef predict(self, x0):\n",
    "\t\ty0 = self.reg.predict(x0)\n",
    "\t\treturn y0\n",
    "    \n",
    "\tdef getcoef(self):\n",
    "\t\treturn self.a, self.b\n",
    "    \n",
    "\tdef show(self):\n",
    "\t\tfigure1 = pl.figure()\n",
    "\t\tpl.plot(range(len(self.y)), self.y, 'ro', label='origin data', figure=figure1)\n",
    "\t\tpl.plot(range(len(self.y)), self.predict(self.x), label='fitting data', figure=figure1)\n",
    "\t\tplt.title('多自变量单因变量线性回归')\n",
    "\t\tpl.legend()\n",
    "\t\tpl.show()\n",
    "        \n",
    "#多自变量多独立因变量的线性回归\n",
    "class nn_fit:\n",
    "\tdef loaddata(self, x, y):\n",
    "\t\tx = numpy.array(x)\n",
    "\t\ty = numpy.array(y)\n",
    "\t\treg = linear_model.LinearRegression()\n",
    "\t\treg.fit(x, y)\n",
    "\t\ta = reg.coef_\n",
    "\t\tb = reg.intercept_\n",
    "\t\tself.x = x\n",
    "\t\tself.y = y\n",
    "\t\tself.reg = reg\n",
    "\t\tself.a = a\n",
    "\t\tself.b = b\n",
    "        \n",
    "\tdef predict(self, x0):\n",
    "\t\ty0 = self.reg.predict(x0)\n",
    "\t\treturn y0\n",
    "    \n",
    "\tdef predict_one(self, x0, k):\n",
    "\t\t'''\n",
    "\t\t预测第k个函数的秩\n",
    "\t\t'''\n",
    "\t\tx0 = numpy.array(x0)\n",
    "\t\tx0.reshape((len(x0), 1))\n",
    "\t\ty0 = numpy.dot(self.a[k-1:k, :], x0.T) + self.b[k]\n",
    "\t\treturn y0\n",
    "\n",
    "#测试有效性\n",
    "def test_two_fit():\n",
    "\t#x = numpy.arange(1, 10, 0.5)\n",
    "\t#y = x * 0.1 + 3\n",
    "\tx = [ 1, 2, 3, 4, 5, 6]\n",
    "\ty = [ 2.5, 3.51, 4.45, 5.52, 6.47, 7.51]\n",
    "\tfit = two_fit()\n",
    "\tfit.loaddata(x, y)\n",
    "\tx0 = 14\n",
    "\ty0 = fit.predict(x0)\n",
    "\ta, b = fit.getcoef()\n",
    "\tprint('f(x0):', y0)\n",
    "\tprint('function:ax+b (', 'a=', a, 'b=', b, ')')\n",
    "\tfit.show()\n",
    "    \n",
    "def test_n_fit():\n",
    "\tx1 = numpy.arange(2, 10, 0.1)\n",
    "\tx2 = numpy.linspace(2, 100, len(x1))\n",
    "\ty = x1 * 0.3 + x2 * 0.4 + 0.5\n",
    "\tx = numpy.c_[x1, x2]\n",
    "\ty1 = y + numpy.random.random(y.shape)\n",
    "\tnfit = n_fit()\n",
    "\tnfit.loaddata(x, y1)\n",
    "\tx0 = numpy.array([[1, 1], [2, 2]])\n",
    "\ty0 = nfit.predict(x0)\n",
    "\ta, b = nfit.getcoef()\n",
    "\tprint('x0:', x0)\n",
    "\tprint('f(x0):', y0)\n",
    "\tprint('function:y=ax+b (', 'a=', a, 'b=', b, ')')\n",
    "\tnfit.show()\n",
    "    \n",
    "if __name__ == '__main__':\n",
    "\ttest_n_fit()\n",
    "\ttest_two_fit() #单自变量单因变量的回归测试"
   ]
  },
  {
   "cell_type": "code",
   "execution_count": null,
   "metadata": {
    "collapsed": true
   },
   "outputs": [],
   "source": []
  }
 ],
 "metadata": {
  "kernelspec": {
   "display_name": "Python 3",
   "language": "python",
   "name": "python3"
  },
  "language_info": {
   "codemirror_mode": {
    "name": "ipython",
    "version": 3
   },
   "file_extension": ".py",
   "mimetype": "text/x-python",
   "name": "python",
   "nbconvert_exporter": "python",
   "pygments_lexer": "ipython3",
   "version": "3.6.5"
  }
 },
 "nbformat": 4,
 "nbformat_minor": 2
}
