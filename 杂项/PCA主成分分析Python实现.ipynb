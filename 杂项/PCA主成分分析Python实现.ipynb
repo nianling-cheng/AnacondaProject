{
 "cells": [
  {
   "cell_type": "code",
   "execution_count": 1,
   "metadata": {
    "collapsed": true
   },
   "outputs": [],
   "source": [
    "#1.首先引入numpy，由于测试中用到了pandas和matplotlib，所以这里一并加载\n",
    "import numpy as np\n",
    "import pandas as pd\n",
    "import matplotlib.pyplot as plt"
   ]
  },
  {
   "cell_type": "code",
   "execution_count": 2,
   "metadata": {
    "collapsed": true
   },
   "outputs": [],
   "source": [
    "#2.定义一个均值函数\n",
    "\n",
    "#计算均值,要求输入数据为numpy的矩阵格式，行表示样本数，列表示特征    \n",
    "def meanX(dataX):\n",
    "    return np.mean(dataX, axis=0) #axis=0表示按照列来求均值，如果输入list,则axis=1"
   ]
  },
  {
   "cell_type": "code",
   "execution_count": 3,
   "metadata": {
    "collapsed": true
   },
   "outputs": [],
   "source": [
    "#3.编写pca方法，具体解释参考注释\n",
    "\n",
    "\"\"\"\n",
    "参数：\n",
    "    - XMat：传入的是一个numpy的矩阵格式，行表示样本数，列表示特征    \n",
    "    - k：表示取前k个特征值对应的特征向量\n",
    "返回值：\n",
    "    - finalData：参数一指的是返回的低维矩阵，对应于输入参数二\n",
    "    - reconData：参数二对应的是移动坐标轴后的矩阵\n",
    "\"\"\"\n",
    "def pca(XMat, k):\n",
    "    average = meanX(XMat) \n",
    "    m, n = np.shape(XMat)\n",
    "    data_adjust = []\n",
    "    avgs = np.tile(average, (m, 1))\n",
    "    data_adjust = XMat - avgs\n",
    "    covX = np.cov(data_adjust.T) #计算协方差矩阵\n",
    "    featValue, featVec = np.linalg.eig(covX) #求解协方差矩阵的特征值和特征向量\n",
    "    index = np.argsort(-featValue) #按照featValue进行从大到小排序\n",
    "    finalData = []\n",
    "    if k > n:\n",
    "        print(\"k must lower than feature number\")\n",
    "        return\n",
    "    else:\n",
    "        #注意特征向量时列向量，而numpy的二维矩阵(数组)a[m][n]中，a[1]表示第1行值\n",
    "        selectVec = np.matrix(featVec.T[index[:k]]) #所以这里需要进行转置\n",
    "        finalData = data_adjust * selectVec.T \n",
    "        reconData = (finalData * selectVec) + average  \n",
    "    return finalData, reconData"
   ]
  },
  {
   "cell_type": "code",
   "execution_count": 4,
   "metadata": {
    "collapsed": true
   },
   "outputs": [],
   "source": [
    "#4.编写一个加载数据集的函数\n",
    "\n",
    "#输入文件的每行数据都以\\t隔开\n",
    "def loaddata(datafile):\n",
    "    return np.array(pd.read_csv(datafile, sep=\"\\t\", header=-1)).astype(np.float)"
   ]
  },
  {
   "cell_type": "code",
   "execution_count": 5,
   "metadata": {
    "collapsed": true
   },
   "outputs": [],
   "source": [
    "#5.可视化结果\n",
    "\n",
    "#因为我将维数k指定为2，所以可以使用下面的函数将其绘制出来：\n",
    "def plotBestFit(data1, data2):    \n",
    "    dataArr1 = np.array(data1)\n",
    "    dataArr2 = np.array(data2)\n",
    "\n",
    "    m = np.shape(dataArr1)[0]\n",
    "    axis_x1 = []\n",
    "    axis_y1 = []\n",
    "    axis_x2 = []\n",
    "    axis_y2 = []\n",
    "    for i in range(m):\n",
    "        axis_x1.append(dataArr1[i, 0])\n",
    "        axis_y1.append(dataArr1[i, 1])\n",
    "        axis_x2.append(dataArr2[i, 0]) \n",
    "        axis_y2.append(dataArr2[i, 1])                 \n",
    "    fig = plt.figure()\n",
    "    ax = fig.add_subplot(111)\n",
    "    ax.scatter(axis_x1, axis_y1, s=50, c='red', marker='s')\n",
    "    ax.scatter(axis_x2, axis_y2, s=50, c='blue')\n",
    "    plt.xlabel('x1'); plt.ylabel('x2');\n",
    "    plt.savefig(\"outfile.png\")\n",
    "    plt.show()"
   ]
  },
  {
   "cell_type": "code",
   "execution_count": 11,
   "metadata": {},
   "outputs": [
    {
     "data": {
      "image/png": "[encoded data removed]",
      "text/plain": [
       "<matplotlib.figure.Figure at 0xa07a4e0>"
      ]
     },
     "metadata": {},
     "output_type": "display_data"
    }
   ],
   "source": [
    "#6.测试方法\n",
    "\n",
    "#测试方法写入main函数中，然后直接执行main方法即可：\n",
    "#data.txt可到github中下载：data.txt\n",
    "\n",
    "#根据数据集data.txt\n",
    "def main():    \n",
    "    datafile = \"./PCA.csv\"\n",
    "    XMat = loaddata(datafile)\n",
    "    k = 2\n",
    "    return pca(XMat, k)\n",
    "if __name__ == \"__main__\":\n",
    "    finalData, reconMat = main()\n",
    "    plotBestFit(finalData, reconMat)"
   ]
  },
  {
   "cell_type": "code",
   "execution_count": null,
   "metadata": {
    "collapsed": true
   },
   "outputs": [],
   "source": []
  }
 ],
 "metadata": {
  "kernelspec": {
   "display_name": "Python 3",
   "language": "python",
   "name": "python3"
  },
  "language_info": {
   "codemirror_mode": {
    "name": "ipython",
    "version": 3
   },
   "file_extension": ".py",
   "mimetype": "text/x-python",
   "name": "python",
   "nbconvert_exporter": "python",
   "pygments_lexer": "ipython3",
   "version": "3.6.5"
  }
 },
 "nbformat": 4,
 "nbformat_minor": 2
}
