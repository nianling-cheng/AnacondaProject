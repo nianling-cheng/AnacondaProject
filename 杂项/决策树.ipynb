{
 "cells": [
  {
   "cell_type": "code",
   "execution_count": 106,
   "metadata": {},
   "outputs": [],
   "source": [
    "import math\n",
    "import collections\n",
    "\n",
    "#熵的计算 - (数组的熵)\n",
    "def entropy(rows: list) -> float:\n",
    "    result = collections.Counter()\n",
    "    result.update(rows)\n",
    "    rows_len = len(rows)\n",
    "    assert rows_len #数组长度不能为0\n",
    "    \n",
    "    ent = 0.0\n",
    "    for r in result.values():\n",
    "        p = float(r) / rows_len\n",
    "        ent -= p * math.log2(p)\n",
    "    \n",
    "    return ent"
   ]
  },
  {
   "cell_type": "code",
   "execution_count": 107,
   "metadata": {},
   "outputs": [],
   "source": [
    "#条件熵的计算 - 参数 future_list 是某一特征向量组成的列表，result_list 是 label 列表\n",
    "def condition_entropy(future_list: list, result_list: list) -> float:\n",
    "    entropy_dict = collections.defaultdict(list) #{0:[], 1:[]}\n",
    "    for future, value in zip(future_list, result_list):\n",
    "        entropy_dict[future].append(value)\n",
    "        \n",
    "    ent = 0.0\n",
    "    future_len = len(future_list) #数据个数\n",
    "    for value in entropy_dict.values():\n",
    "        p = len(value) / future_len * entropy(value)\n",
    "        ent += p\n",
    "        \n",
    "    return ent"
   ]
  },
  {
   "cell_type": "code",
   "execution_count": 108,
   "metadata": {},
   "outputs": [],
   "source": [
    "#信息增益 - 得到某特征的信息增益\n",
    "def gain(future_list: list, result_list: list) -> float:\n",
    "    info = entropy(result_list)\n",
    "    info_condition = condition_entropy(future_list, result_list)\n",
    "    return info - info_condition"
   ]
  },
  {
   "cell_type": "code",
   "execution_count": 109,
   "metadata": {},
   "outputs": [],
   "source": [
    "#定义决策树的节点\n",
    "class DecisionNode(object): #决策树的节点\n",
    "    def __init__(self, col=-1, data_set=None, labels=None, results=None, tb=None, fb=None):\n",
    "        self.has_calc_index = []   #已经计算过的特征索引\n",
    "        self.col = col             #等待检验的判断条件, 对应列索引值\n",
    "        self.data_set = data_set   #节点的待检测数据\n",
    "        self.labels = labels       #对应当前列必须匹配的值\n",
    "        self.results = results     #保存的是针对当前分支的结果, 有值则表示该节点是叶子节点\n",
    "        self.tb = tb               #当信息增益最高的特征为True时的子树\n",
    "        self.fb = fb               #当信息增益最高的特征为False时的子树"
   ]
  },
  {
   "cell_type": "code",
   "execution_count": 110,
   "metadata": {},
   "outputs": [],
   "source": [
    "#递归的停止条件 - 递归的结束条件, 每个分支的结果都是相同的分类\n",
    "def if_split_end(result_list: list) -> bool:\n",
    "    result = collections.Counter(result_list)\n",
    "    return len(result) == 1"
   ]
  },
  {
   "cell_type": "code",
   "execution_count": 111,
   "metadata": {},
   "outputs": [],
   "source": [
    "#从训练集中筛选最佳的特征 - 从特征向量中筛选最好的特征, 返回它的特征索引\n",
    "def choose_best_future(data_set: list, labels: list, ignore_index: list) -> int:\n",
    "    result_dict = {}              #{索引: 信息增益值}\n",
    "    future_num = len(data_set[0])\n",
    "    for i in range(future_num):\n",
    "        if i in ignore_index:     #如果已经计算过了\n",
    "            continue\n",
    "        future_list = [x[i] for x in data_set]\n",
    "        result_dict[i] = gain(future_list, labels) #获取信息增益\n",
    "    #排序后选择第一个\n",
    "    ret = sorted(result_dict.items(), key=lambda x: x[1], reverse=True)\n",
    "    return ret[0][0]"
   ]
  },
  {
   "cell_type": "code",
   "execution_count": 112,
   "metadata": {},
   "outputs": [],
   "source": [
    "#构造决策树\n",
    "class DecisionTreeClass():\n",
    "    def __init__(self):\n",
    "        self.future_num = 0   #特征\n",
    "        self.tree_root = None #决策树根节点\n",
    "        \n",
    "    #创建决策树\n",
    "    def build_tree(self, node: DecisionNode):\n",
    "        if if_split_end(node.labels): #递归条件结束\n",
    "            node.results = node.labels[0]\n",
    "            return\n",
    "        #print(node.data_set)\n",
    "        #不是叶子节点, 开始创建分支\n",
    "        best_index = choose_best_future(node.data_set, node.labels, node.has_calc_index)\n",
    "        node.col = best_index\n",
    "\n",
    "        #根据信息增益最大进行划分\n",
    "        #左子树\n",
    "        tb_index = [i for i, value in enumerate(node.data_set) if value[best_index]]\n",
    "        tb_data_set = [node.data_set[x] for x in tb_index]\n",
    "        tb_data_labels = [node.labels[x] for x in tb_index]\n",
    "        tb_node = DecisionNode(data_set=tb_data_set, labels=tb_data_labels)\n",
    "        tb_node.has_calc_index = list(node.has_calc_index)\n",
    "        tb_node.has_calc_index.append(best_index)\n",
    "        node.tb = tb_node\n",
    "\n",
    "        #右子树\n",
    "        fb_index = [i for i, value in enumerate(node.data_set) if not value[best_index]]\n",
    "        fb_data_set = [node.data_set[x] for x in fb_index]\n",
    "        fb_data_labels = [node.labels[x] for x in fb_index]\n",
    "        fb_node = DecisionNode(data_set=fb_data_set, labels=fb_data_labels)\n",
    "        fb_node.has_calc_index = list(node.has_calc_index)\n",
    "        fb_node.has_calc_index.append(best_index)\n",
    "        node.fb = fb_node\n",
    "\n",
    "        #递归创建子树\n",
    "        if tb_index:\n",
    "            self.build_tree(node.tb)\n",
    "        if fb_index:\n",
    "            self.build_tree(node.fb)\n",
    "            \n",
    "    #训练函数\n",
    "    def fit(self, x: list, y: list):\n",
    "        #x是训练集, 二维数组; y是结果集, 一维数组\n",
    "        self.future_num = len(x[0])\n",
    "        self.tree_root = DecisionNode(data_set=x, labels=y)\n",
    "        self.build_tree(self.tree_root)\n",
    "        self.clear_tree_example_data(self.tree_root)       \n",
    "        \n",
    "    #清理训练集 - 清理tree的训练数据\n",
    "    def clear_tree_example_data(self, node: DecisionNode):\n",
    "        del node.has_calc_index\n",
    "        del node.labels\n",
    "        del node.data_set\n",
    "        if node.tb:\n",
    "            self.clear_tree_example_data(node.tb)\n",
    "        if node.fb:\n",
    "            self.clear_tree_example_data(node.fb)\n",
    "            \n",
    "    #预测函数\n",
    "    def _predict(self, data_test: list, node: DecisionNode):\n",
    "        if node.results:\n",
    "            return node.results\n",
    "        col = node.col\n",
    "        if data_test[col]:\n",
    "            return self._predict(data_test, node.tb)\n",
    "        else:\n",
    "            return slef._predict(data_test, node.fb)\n",
    "\n",
    "    def predict(self, data_test):\n",
    "        return self._predict(data_test, self.tree_root)            "
   ]
  },
  {
   "cell_type": "code",
   "execution_count": null,
   "metadata": {},
   "outputs": [],
   "source": []
  },
  {
   "cell_type": "code",
   "execution_count": null,
   "metadata": {},
   "outputs": [],
   "source": []
  },
  {
   "cell_type": "code",
   "execution_count": null,
   "metadata": {},
   "outputs": [],
   "source": []
  },
  {
   "cell_type": "code",
   "execution_count": null,
   "metadata": {},
   "outputs": [],
   "source": []
  },
  {
   "cell_type": "code",
   "execution_count": 113,
   "metadata": {},
   "outputs": [
    {
     "name": "stdout",
     "output_type": "stream",
     "text": [
      "1\n"
     ]
    }
   ],
   "source": [
    "#测试\n",
    "if __name__ == \"__main__\":\n",
    "    dummy_x = [\n",
    "        [0, 0, 1, 0, 1, 1, 0, 0, 1, 0, ], \n",
    "        [0, 0, 1, 1, 0, 1, 0, 0, 1, 0, ], \n",
    "        [1, 0, 0, 0, 1, 1, 0, 0, 1, 0, ], \n",
    "        [0, 1, 0, 0, 1, 0, 0, 1, 1, 0, ], \n",
    "        [0, 1, 0, 0, 1, 0, 1, 0, 0, 1, ], \n",
    "        [0, 1, 0, 1, 0, 0, 1, 0, 0, 1, ], \n",
    "        [1, 0, 0, 1, 0, 0, 1, 0, 0, 1, ], \n",
    "        [0, 0, 1, 0, 1, 0, 0, 1, 1, 0, ], \n",
    "        [0, 0, 1, 0, 1, 0, 1, 0, 0, 1, ], \n",
    "        [0, 1, 0, 0, 1, 0, 0, 1, 0, 1, ], \n",
    "        [0, 0, 1, 1, 0, 0, 0, 1, 0, 1, ], \n",
    "        [1, 0, 0, 1, 0, 0, 0, 1, 1, 0, ], \n",
    "        [1, 0, 0, 0, 1, 1, 0, 0, 0, 1, ], \n",
    "        [0, 1, 0, 1, 0, 0, 0, 1, 1, 0, ], \n",
    "    ]\n",
    "    dummy_y = [0,0,1,1,1,0,1,0,1,1,1,1,1,0]\n",
    "    \n",
    "    tree = DecisionTreeClass()\n",
    "    tree.fit(dummy_x, dummy_y)\n",
    "    \n",
    "    test_row = [1,0,0,0,1,1,0,0,1,0,]\n",
    "    print(tree.predict(test_row)) #Output: 1"
   ]
  },
  {
   "cell_type": "code",
   "execution_count": null,
   "metadata": {},
   "outputs": [],
   "source": []
  },
  {
   "cell_type": "code",
   "execution_count": null,
   "metadata": {},
   "outputs": [],
   "source": []
  },
  {
   "cell_type": "code",
   "execution_count": null,
   "metadata": {},
   "outputs": [],
   "source": []
  },
  {
   "cell_type": "code",
   "execution_count": null,
   "metadata": {},
   "outputs": [],
   "source": []
  },
  {
   "cell_type": "code",
   "execution_count": null,
   "metadata": {},
   "outputs": [],
   "source": []
  },
  {
   "cell_type": "code",
   "execution_count": null,
   "metadata": {},
   "outputs": [],
   "source": []
  },
  {
   "cell_type": "code",
   "execution_count": null,
   "metadata": {},
   "outputs": [],
   "source": []
  },
  {
   "cell_type": "code",
   "execution_count": null,
   "metadata": {},
   "outputs": [],
   "source": []
  }
 ],
 "metadata": {
  "kernelspec": {
   "display_name": "Python 3",
   "language": "python",
   "name": "python3"
  },
  "language_info": {
   "codemirror_mode": {
    "name": "ipython",
    "version": 3
   },
   "file_extension": ".py",
   "mimetype": "text/x-python",
   "name": "python",
   "nbconvert_exporter": "python",
   "pygments_lexer": "ipython3",
   "version": "3.6.4"
  }
 },
 "nbformat": 4,
 "nbformat_minor": 2
}
